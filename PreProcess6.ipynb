{
  "nbformat": 4,
  "nbformat_minor": 0,
  "metadata": {
    "colab": {
      "provenance": []
    },
    "kernelspec": {
      "name": "python3",
      "display_name": "Python 3"
    },
    "language_info": {
      "name": "python"
    }
  },
  "cells": [
    {
      "cell_type": "markdown",
      "source": [
        "Nama : Billy AB\n",
        "\n",
        "Kelas : TI21F\n",
        "\n",
        "NIM : 20210040100"
      ],
      "metadata": {
        "id": "6B_sOZz2rpFa"
      }
    },
    {
      "cell_type": "markdown",
      "source": [
        "#**Import Library**\n",
        "\n",
        "---\n"
      ],
      "metadata": {
        "id": "Jwysbz8Lqr5b"
      }
    },
    {
      "cell_type": "code",
      "execution_count": null,
      "metadata": {
        "id": "wUf3gRcVoi_g"
      },
      "outputs": [],
      "source": [
        "# impor library\n",
        "import numpy as np\n",
        "import pandas as pd"
      ]
    },
    {
      "cell_type": "code",
      "source": [
        "data = {\n",
        "    'Province': ['Banten', 'DKI Jakarta','Jawa Barat','Banten','Jawa Barat','DKI Jakarta','Banten','Banten','Jawa Barat','DKI Jakarta','Banten','Banten','Jawa Barat','DKI Jakarta','DKI Jakarta'],\n",
        "    'Age': [24,np.nan,60,34,58,np.nan,21,44,40,51,32,30,30,19,25],\n",
        "    'Wage': [5000000,3400000,7350000,3500000,np.nan,8000000,5500000,10000000,9000000,10500000,np.nan,6400000,np.nan,2200000,4500000],\n",
        "    'Life insured': ['Yes','No','No','No','Yes','No','No','Yes','Yes','Yes','No','No','No','Yes','Yes'],\n",
        "}\n",
        "\n",
        "dataset = pd.DataFrame(data)"
      ],
      "metadata": {
        "id": "u3z-tnhuooOd"
      },
      "execution_count": null,
      "outputs": []
    },
    {
      "cell_type": "markdown",
      "source": [
        "#**Import Dataset dari File CSV**\n",
        "\n",
        "---\n"
      ],
      "metadata": {
        "id": "th1oC3mMq0Ge"
      }
    },
    {
      "cell_type": "code",
      "source": [
        "# impor dataset\n",
        "dataset = pd.read_csv(\n",
        "        'contoh_dataset.csv',\n",
        "        delimiter=';',\n",
        "        header='infer',\n",
        "        index_col=False\n",
        "        )"
      ],
      "metadata": {
        "id": "o9VP9aHAoo5g"
      },
      "execution_count": null,
      "outputs": []
    },
    {
      "cell_type": "code",
      "source": [
        "X = dataset.iloc[:, :-1].values\n",
        "y = dataset.iloc[:, -1].values"
      ],
      "metadata": {
        "id": "2aA1dYkZos7L"
      },
      "execution_count": null,
      "outputs": []
    },
    {
      "cell_type": "code",
      "source": [
        "dataset.head()"
      ],
      "metadata": {
        "colab": {
          "base_uri": "https://localhost:8080/",
          "height": 206
        },
        "id": "dzt9me8awPTF",
        "outputId": "860fca92-3809-44af-cde3-7b0fedc1acdd"
      },
      "execution_count": null,
      "outputs": [
        {
          "output_type": "execute_result",
          "data": {
            "text/plain": [
              "      Province   Age       Wage Life Insured\n",
              "0       Banten  24.0  5000000.0          Yes\n",
              "1  DKI Jakarta   NaN  3400000.0           No\n",
              "2   Jawa Barat  60.0  7350000.0           No\n",
              "3       Banten  34.0  3500000.0           No\n",
              "4   Jawa Barat  58.0        NaN          Yes"
            ],
            "text/html": [
              "\n",
              "  <div id=\"df-9dbb2999-c61a-4f1f-b1ed-7225b39de0c7\" class=\"colab-df-container\">\n",
              "    <div>\n",
              "<style scoped>\n",
              "    .dataframe tbody tr th:only-of-type {\n",
              "        vertical-align: middle;\n",
              "    }\n",
              "\n",
              "    .dataframe tbody tr th {\n",
              "        vertical-align: top;\n",
              "    }\n",
              "\n",
              "    .dataframe thead th {\n",
              "        text-align: right;\n",
              "    }\n",
              "</style>\n",
              "<table border=\"1\" class=\"dataframe\">\n",
              "  <thead>\n",
              "    <tr style=\"text-align: right;\">\n",
              "      <th></th>\n",
              "      <th>Province</th>\n",
              "      <th>Age</th>\n",
              "      <th>Wage</th>\n",
              "      <th>Life Insured</th>\n",
              "    </tr>\n",
              "  </thead>\n",
              "  <tbody>\n",
              "    <tr>\n",
              "      <th>0</th>\n",
              "      <td>Banten</td>\n",
              "      <td>24.0</td>\n",
              "      <td>5000000.0</td>\n",
              "      <td>Yes</td>\n",
              "    </tr>\n",
              "    <tr>\n",
              "      <th>1</th>\n",
              "      <td>DKI Jakarta</td>\n",
              "      <td>NaN</td>\n",
              "      <td>3400000.0</td>\n",
              "      <td>No</td>\n",
              "    </tr>\n",
              "    <tr>\n",
              "      <th>2</th>\n",
              "      <td>Jawa Barat</td>\n",
              "      <td>60.0</td>\n",
              "      <td>7350000.0</td>\n",
              "      <td>No</td>\n",
              "    </tr>\n",
              "    <tr>\n",
              "      <th>3</th>\n",
              "      <td>Banten</td>\n",
              "      <td>34.0</td>\n",
              "      <td>3500000.0</td>\n",
              "      <td>No</td>\n",
              "    </tr>\n",
              "    <tr>\n",
              "      <th>4</th>\n",
              "      <td>Jawa Barat</td>\n",
              "      <td>58.0</td>\n",
              "      <td>NaN</td>\n",
              "      <td>Yes</td>\n",
              "    </tr>\n",
              "  </tbody>\n",
              "</table>\n",
              "</div>\n",
              "    <div class=\"colab-df-buttons\">\n",
              "\n",
              "  <div class=\"colab-df-container\">\n",
              "    <button class=\"colab-df-convert\" onclick=\"convertToInteractive('df-9dbb2999-c61a-4f1f-b1ed-7225b39de0c7')\"\n",
              "            title=\"Convert this dataframe to an interactive table.\"\n",
              "            style=\"display:none;\">\n",
              "\n",
              "  <svg xmlns=\"http://www.w3.org/2000/svg\" height=\"24px\" viewBox=\"0 -960 960 960\">\n",
              "    <path d=\"M120-120v-720h720v720H120Zm60-500h600v-160H180v160Zm220 220h160v-160H400v160Zm0 220h160v-160H400v160ZM180-400h160v-160H180v160Zm440 0h160v-160H620v160ZM180-180h160v-160H180v160Zm440 0h160v-160H620v160Z\"/>\n",
              "  </svg>\n",
              "    </button>\n",
              "\n",
              "  <style>\n",
              "    .colab-df-container {\n",
              "      display:flex;\n",
              "      gap: 12px;\n",
              "    }\n",
              "\n",
              "    .colab-df-convert {\n",
              "      background-color: #E8F0FE;\n",
              "      border: none;\n",
              "      border-radius: 50%;\n",
              "      cursor: pointer;\n",
              "      display: none;\n",
              "      fill: #1967D2;\n",
              "      height: 32px;\n",
              "      padding: 0 0 0 0;\n",
              "      width: 32px;\n",
              "    }\n",
              "\n",
              "    .colab-df-convert:hover {\n",
              "      background-color: #E2EBFA;\n",
              "      box-shadow: 0px 1px 2px rgba(60, 64, 67, 0.3), 0px 1px 3px 1px rgba(60, 64, 67, 0.15);\n",
              "      fill: #174EA6;\n",
              "    }\n",
              "\n",
              "    .colab-df-buttons div {\n",
              "      margin-bottom: 4px;\n",
              "    }\n",
              "\n",
              "    [theme=dark] .colab-df-convert {\n",
              "      background-color: #3B4455;\n",
              "      fill: #D2E3FC;\n",
              "    }\n",
              "\n",
              "    [theme=dark] .colab-df-convert:hover {\n",
              "      background-color: #434B5C;\n",
              "      box-shadow: 0px 1px 3px 1px rgba(0, 0, 0, 0.15);\n",
              "      filter: drop-shadow(0px 1px 2px rgba(0, 0, 0, 0.3));\n",
              "      fill: #FFFFFF;\n",
              "    }\n",
              "  </style>\n",
              "\n",
              "    <script>\n",
              "      const buttonEl =\n",
              "        document.querySelector('#df-9dbb2999-c61a-4f1f-b1ed-7225b39de0c7 button.colab-df-convert');\n",
              "      buttonEl.style.display =\n",
              "        google.colab.kernel.accessAllowed ? 'block' : 'none';\n",
              "\n",
              "      async function convertToInteractive(key) {\n",
              "        const element = document.querySelector('#df-9dbb2999-c61a-4f1f-b1ed-7225b39de0c7');\n",
              "        const dataTable =\n",
              "          await google.colab.kernel.invokeFunction('convertToInteractive',\n",
              "                                                    [key], {});\n",
              "        if (!dataTable) return;\n",
              "\n",
              "        const docLinkHtml = 'Like what you see? Visit the ' +\n",
              "          '<a target=\"_blank\" href=https://colab.research.google.com/notebooks/data_table.ipynb>data table notebook</a>'\n",
              "          + ' to learn more about interactive tables.';\n",
              "        element.innerHTML = '';\n",
              "        dataTable['output_type'] = 'display_data';\n",
              "        await google.colab.output.renderOutput(dataTable, element);\n",
              "        const docLink = document.createElement('div');\n",
              "        docLink.innerHTML = docLinkHtml;\n",
              "        element.appendChild(docLink);\n",
              "      }\n",
              "    </script>\n",
              "  </div>\n",
              "\n",
              "\n",
              "<div id=\"df-b7c3a723-4fb1-412d-86de-aa1ae70247a2\">\n",
              "  <button class=\"colab-df-quickchart\" onclick=\"quickchart('df-b7c3a723-4fb1-412d-86de-aa1ae70247a2')\"\n",
              "            title=\"Suggest charts.\"\n",
              "            style=\"display:none;\">\n",
              "\n",
              "<svg xmlns=\"http://www.w3.org/2000/svg\" height=\"24px\"viewBox=\"0 0 24 24\"\n",
              "     width=\"24px\">\n",
              "    <g>\n",
              "        <path d=\"M19 3H5c-1.1 0-2 .9-2 2v14c0 1.1.9 2 2 2h14c1.1 0 2-.9 2-2V5c0-1.1-.9-2-2-2zM9 17H7v-7h2v7zm4 0h-2V7h2v10zm4 0h-2v-4h2v4z\"/>\n",
              "    </g>\n",
              "</svg>\n",
              "  </button>\n",
              "\n",
              "<style>\n",
              "  .colab-df-quickchart {\n",
              "      --bg-color: #E8F0FE;\n",
              "      --fill-color: #1967D2;\n",
              "      --hover-bg-color: #E2EBFA;\n",
              "      --hover-fill-color: #174EA6;\n",
              "      --disabled-fill-color: #AAA;\n",
              "      --disabled-bg-color: #DDD;\n",
              "  }\n",
              "\n",
              "  [theme=dark] .colab-df-quickchart {\n",
              "      --bg-color: #3B4455;\n",
              "      --fill-color: #D2E3FC;\n",
              "      --hover-bg-color: #434B5C;\n",
              "      --hover-fill-color: #FFFFFF;\n",
              "      --disabled-bg-color: #3B4455;\n",
              "      --disabled-fill-color: #666;\n",
              "  }\n",
              "\n",
              "  .colab-df-quickchart {\n",
              "    background-color: var(--bg-color);\n",
              "    border: none;\n",
              "    border-radius: 50%;\n",
              "    cursor: pointer;\n",
              "    display: none;\n",
              "    fill: var(--fill-color);\n",
              "    height: 32px;\n",
              "    padding: 0;\n",
              "    width: 32px;\n",
              "  }\n",
              "\n",
              "  .colab-df-quickchart:hover {\n",
              "    background-color: var(--hover-bg-color);\n",
              "    box-shadow: 0 1px 2px rgba(60, 64, 67, 0.3), 0 1px 3px 1px rgba(60, 64, 67, 0.15);\n",
              "    fill: var(--button-hover-fill-color);\n",
              "  }\n",
              "\n",
              "  .colab-df-quickchart-complete:disabled,\n",
              "  .colab-df-quickchart-complete:disabled:hover {\n",
              "    background-color: var(--disabled-bg-color);\n",
              "    fill: var(--disabled-fill-color);\n",
              "    box-shadow: none;\n",
              "  }\n",
              "\n",
              "  .colab-df-spinner {\n",
              "    border: 2px solid var(--fill-color);\n",
              "    border-color: transparent;\n",
              "    border-bottom-color: var(--fill-color);\n",
              "    animation:\n",
              "      spin 1s steps(1) infinite;\n",
              "  }\n",
              "\n",
              "  @keyframes spin {\n",
              "    0% {\n",
              "      border-color: transparent;\n",
              "      border-bottom-color: var(--fill-color);\n",
              "      border-left-color: var(--fill-color);\n",
              "    }\n",
              "    20% {\n",
              "      border-color: transparent;\n",
              "      border-left-color: var(--fill-color);\n",
              "      border-top-color: var(--fill-color);\n",
              "    }\n",
              "    30% {\n",
              "      border-color: transparent;\n",
              "      border-left-color: var(--fill-color);\n",
              "      border-top-color: var(--fill-color);\n",
              "      border-right-color: var(--fill-color);\n",
              "    }\n",
              "    40% {\n",
              "      border-color: transparent;\n",
              "      border-right-color: var(--fill-color);\n",
              "      border-top-color: var(--fill-color);\n",
              "    }\n",
              "    60% {\n",
              "      border-color: transparent;\n",
              "      border-right-color: var(--fill-color);\n",
              "    }\n",
              "    80% {\n",
              "      border-color: transparent;\n",
              "      border-right-color: var(--fill-color);\n",
              "      border-bottom-color: var(--fill-color);\n",
              "    }\n",
              "    90% {\n",
              "      border-color: transparent;\n",
              "      border-bottom-color: var(--fill-color);\n",
              "    }\n",
              "  }\n",
              "</style>\n",
              "\n",
              "  <script>\n",
              "    async function quickchart(key) {\n",
              "      const quickchartButtonEl =\n",
              "        document.querySelector('#' + key + ' button');\n",
              "      quickchartButtonEl.disabled = true;  // To prevent multiple clicks.\n",
              "      quickchartButtonEl.classList.add('colab-df-spinner');\n",
              "      try {\n",
              "        const charts = await google.colab.kernel.invokeFunction(\n",
              "            'suggestCharts', [key], {});\n",
              "      } catch (error) {\n",
              "        console.error('Error during call to suggestCharts:', error);\n",
              "      }\n",
              "      quickchartButtonEl.classList.remove('colab-df-spinner');\n",
              "      quickchartButtonEl.classList.add('colab-df-quickchart-complete');\n",
              "    }\n",
              "    (() => {\n",
              "      let quickchartButtonEl =\n",
              "        document.querySelector('#df-b7c3a723-4fb1-412d-86de-aa1ae70247a2 button');\n",
              "      quickchartButtonEl.style.display =\n",
              "        google.colab.kernel.accessAllowed ? 'block' : 'none';\n",
              "    })();\n",
              "  </script>\n",
              "</div>\n",
              "    </div>\n",
              "  </div>\n"
            ]
          },
          "metadata": {},
          "execution_count": 26
        }
      ]
    },
    {
      "cell_type": "markdown",
      "source": [
        "#**Menangani Nilai Kosong (NaN)**\n",
        "\n",
        "---"
      ],
      "metadata": {
        "id": "qrNnPl2Lq8ko"
      }
    },
    {
      "cell_type": "code",
      "source": [
        "# menangani nilai kosong\n",
        "from sklearn.impute import SimpleImputer\n",
        "\n",
        "# ganti NaN dengan mean kolom itu\n",
        "imputer = SimpleImputer(\n",
        "        missing_values=np.nan,\n",
        "        strategy='mean'\n",
        "        )\n",
        "imputer = imputer.fit(X[:, 1:3])\n",
        "X[:, 1:3] = imputer.transform(X[:, 1:3])"
      ],
      "metadata": {
        "id": "Mc_D5XxYows8"
      },
      "execution_count": null,
      "outputs": []
    },
    {
      "cell_type": "code",
      "source": [
        "X"
      ],
      "metadata": {
        "colab": {
          "base_uri": "https://localhost:8080/"
        },
        "id": "itepUil2w-IG",
        "outputId": "71053d4d-07b1-4506-bfa0-a51cde9037c2"
      },
      "execution_count": null,
      "outputs": [
        {
          "output_type": "execute_result",
          "data": {
            "text/plain": [
              "array([[1.00000000e+00, 0.00000000e+00, 0.00000000e+00, 2.40000000e+01,\n",
              "        5.00000000e+06],\n",
              "       [0.00000000e+00, 1.00000000e+00, 0.00000000e+00, 3.60000000e+01,\n",
              "        3.40000000e+06],\n",
              "       [0.00000000e+00, 0.00000000e+00, 1.00000000e+00, 6.00000000e+01,\n",
              "        7.35000000e+06],\n",
              "       [1.00000000e+00, 0.00000000e+00, 0.00000000e+00, 3.40000000e+01,\n",
              "        3.50000000e+06],\n",
              "       [0.00000000e+00, 0.00000000e+00, 1.00000000e+00, 5.80000000e+01,\n",
              "        6.27916667e+06],\n",
              "       [0.00000000e+00, 1.00000000e+00, 0.00000000e+00, 3.60000000e+01,\n",
              "        8.00000000e+06],\n",
              "       [1.00000000e+00, 0.00000000e+00, 0.00000000e+00, 2.10000000e+01,\n",
              "        5.50000000e+06],\n",
              "       [1.00000000e+00, 0.00000000e+00, 0.00000000e+00, 4.40000000e+01,\n",
              "        1.00000000e+07],\n",
              "       [0.00000000e+00, 0.00000000e+00, 1.00000000e+00, 4.00000000e+01,\n",
              "        9.00000000e+06],\n",
              "       [0.00000000e+00, 1.00000000e+00, 0.00000000e+00, 5.10000000e+01,\n",
              "        1.05000000e+07],\n",
              "       [1.00000000e+00, 0.00000000e+00, 0.00000000e+00, 3.20000000e+01,\n",
              "        6.27916667e+06],\n",
              "       [1.00000000e+00, 0.00000000e+00, 0.00000000e+00, 3.00000000e+01,\n",
              "        6.40000000e+06],\n",
              "       [0.00000000e+00, 0.00000000e+00, 1.00000000e+00, 3.00000000e+01,\n",
              "        6.27916667e+06],\n",
              "       [0.00000000e+00, 1.00000000e+00, 0.00000000e+00, 1.90000000e+01,\n",
              "        2.20000000e+06],\n",
              "       [0.00000000e+00, 1.00000000e+00, 0.00000000e+00, 2.50000000e+01,\n",
              "        4.50000000e+06]])"
            ]
          },
          "metadata": {},
          "execution_count": 55
        }
      ]
    },
    {
      "cell_type": "markdown",
      "source": [
        "#**Mengkodekan Daa Kategori**\n",
        "\n",
        "---\n"
      ],
      "metadata": {
        "id": "yztI7u6wrICg"
      }
    },
    {
      "cell_type": "code",
      "source": [
        "# kodekan data kategori\n",
        "from sklearn.preprocessing import OneHotEncoder\n",
        "from sklearn.compose import ColumnTransformer\n",
        "\n",
        "# kodekan nama provinsi (kolom ke-0)\n",
        "# kode hanya sebatas penanda\n",
        "encoder_X = ColumnTransformer(\n",
        "        [('province_encoder', OneHotEncoder(), [0])],\n",
        "        remainder='passthrough'\n",
        "        )\n",
        "X = encoder_X.fit_transform(X).astype(float) # mengembalikan ke dalam tipe 'float64'"
      ],
      "metadata": {
        "id": "vl0PyrbYo3CI"
      },
      "execution_count": null,
      "outputs": []
    },
    {
      "cell_type": "code",
      "source": [
        "print(encoder_X.named_transformers_['province_encoder'].categories_)"
      ],
      "metadata": {
        "colab": {
          "base_uri": "https://localhost:8080/"
        },
        "id": "WKMLzgHjo7te",
        "outputId": "9daf24ae-acb5-4336-bcac-550ce6a164e2"
      },
      "execution_count": null,
      "outputs": [
        {
          "output_type": "stream",
          "name": "stdout",
          "text": [
            "[array(['Banten', 'DKI Jakarta', 'Jawa Barat'], dtype=object)]\n"
          ]
        }
      ]
    },
    {
      "cell_type": "code",
      "source": [
        "# y adalah dependent, cukup kodekan ke angka\n",
        "from sklearn.preprocessing import LabelEncoder\n",
        "labelencoder_y = LabelEncoder()\n",
        "y = labelencoder_y.fit_transform(y)"
      ],
      "metadata": {
        "id": "YWrSh2Oso-IT"
      },
      "execution_count": null,
      "outputs": []
    },
    {
      "cell_type": "code",
      "source": [
        "y"
      ],
      "metadata": {
        "colab": {
          "base_uri": "https://localhost:8080/"
        },
        "id": "fywPhCdP8yhp",
        "outputId": "beb02355-60e2-4698-83f6-12472ca82776"
      },
      "execution_count": null,
      "outputs": [
        {
          "output_type": "execute_result",
          "data": {
            "text/plain": [
              "array([1, 0, 0, 0, 1, 0, 0, 1, 1, 1, 0, 0, 0, 1, 1])"
            ]
          },
          "metadata": {},
          "execution_count": 59
        }
      ]
    },
    {
      "cell_type": "markdown",
      "source": [
        "#**Membagi dataset ke dalam training set dan test set**\n",
        "\n",
        "---\n",
        "\n"
      ],
      "metadata": {
        "id": "bRAbI-ZfqaWO"
      }
    },
    {
      "cell_type": "code",
      "source": [
        "from sklearn.model_selection import train_test_split\n",
        "X_train, X_test, y_train, y_test = train_test_split(X, y, test_size=0.2, random_state=0)"
      ],
      "metadata": {
        "id": "M2tEEAsvpATj"
      },
      "execution_count": null,
      "outputs": []
    },
    {
      "cell_type": "code",
      "source": [
        "X_train, X_test, y_train, y_test = train_test_split(X, y, test_size=0.2, random_state=1)\n",
        "# kemudian:\n",
        "X_train, X_val, y_train, y_val = train_test_split(X_train, y_train, test_size=0.2, random_state=1)"
      ],
      "metadata": {
        "id": "ZVqActE4qY5T"
      },
      "execution_count": null,
      "outputs": []
    },
    {
      "cell_type": "code",
      "source": [
        "X_train"
      ],
      "metadata": {
        "id": "eePJg6DB9V5z",
        "outputId": "eb886f7a-2118-49e9-e1b0-53fa04ff2446",
        "colab": {
          "base_uri": "https://localhost:8080/"
        }
      },
      "execution_count": null,
      "outputs": [
        {
          "output_type": "execute_result",
          "data": {
            "text/plain": [
              "array([[ 1.        , -1.        , -1.        , -0.66666667, -0.36666667],\n",
              "       [ 1.        , -1.        , -1.        , -0.55555556, -0.40694444],\n",
              "       [-1.        ,  1.        , -1.        , -0.94444444, -1.        ],\n",
              "       [-1.        , -1.        ,  1.        ,  1.        , -0.05      ],\n",
              "       [-1.        ,  1.        , -1.        ,  0.5       ,  1.        ],\n",
              "       [-1.        ,  1.        , -1.        , -0.33333333,  0.16666667],\n",
              "       [-1.        , -1.        ,  1.        , -0.66666667, -0.40694444],\n",
              "       [-1.        , -1.        ,  1.        , -0.11111111,  0.5       ],\n",
              "       [ 1.        , -1.        , -1.        , -1.        , -0.83333333]])"
            ]
          },
          "metadata": {},
          "execution_count": 61
        }
      ]
    },
    {
      "cell_type": "code",
      "source": [
        "X_val"
      ],
      "metadata": {
        "colab": {
          "base_uri": "https://localhost:8080/"
        },
        "id": "ArPRpWaM8cfG",
        "outputId": "326be436-24d9-424d-dfa6-5e32fbfcc064"
      },
      "execution_count": 62,
      "outputs": [
        {
          "output_type": "execute_result",
          "data": {
            "text/plain": [
              "array([[0.00000000e+00, 0.00000000e+00, 1.00000000e+00, 5.80000000e+01,\n",
              "        6.27916667e+06],\n",
              "       [0.00000000e+00, 1.00000000e+00, 0.00000000e+00, 3.60000000e+01,\n",
              "        3.40000000e+06],\n",
              "       [0.00000000e+00, 1.00000000e+00, 0.00000000e+00, 1.90000000e+01,\n",
              "        2.20000000e+06]])"
            ]
          },
          "metadata": {},
          "execution_count": 62
        }
      ]
    },
    {
      "cell_type": "code",
      "source": [
        "y_train"
      ],
      "metadata": {
        "colab": {
          "base_uri": "https://localhost:8080/"
        },
        "id": "eufeTTna29ll",
        "outputId": "a7e9123d-7657-4f44-9df5-9e47c113a26c"
      },
      "execution_count": 63,
      "outputs": [
        {
          "output_type": "execute_result",
          "data": {
            "text/plain": [
              "array([0, 0, 1, 0, 1, 0, 0, 1, 1])"
            ]
          },
          "metadata": {},
          "execution_count": 63
        }
      ]
    },
    {
      "cell_type": "code",
      "source": [
        "y_val"
      ],
      "metadata": {
        "colab": {
          "base_uri": "https://localhost:8080/"
        },
        "id": "t5QnvQ8Q8fbL",
        "outputId": "8a661ef4-52a5-4af4-fe8a-fb49be9bf063"
      },
      "execution_count": 64,
      "outputs": [
        {
          "output_type": "execute_result",
          "data": {
            "text/plain": [
              "array([1, 0, 1])"
            ]
          },
          "metadata": {},
          "execution_count": 64
        }
      ]
    },
    {
      "cell_type": "markdown",
      "source": [
        "#**Feature Scaling**\n",
        "---"
      ],
      "metadata": {
        "id": "6pkR9SL0rZUu"
      }
    },
    {
      "cell_type": "code",
      "source": [
        "from sklearn.preprocessing import StandardScaler\n",
        "sc = StandardScaler()\n",
        "# variabel dummy kode provinsi juga diskalakan\n",
        "X_train = sc.fit_transform(X_train)\n",
        "X_test = sc.transform(X_test)"
      ],
      "metadata": {
        "id": "6htYfsPwrS48"
      },
      "execution_count": null,
      "outputs": []
    },
    {
      "cell_type": "code",
      "source": [
        "X_train"
      ],
      "metadata": {
        "colab": {
          "base_uri": "https://localhost:8080/"
        },
        "id": "FLiORCWg8yE6",
        "outputId": "530d7507-f2b1-4614-b2cc-c00761fae0c8"
      },
      "execution_count": 65,
      "outputs": [
        {
          "output_type": "execute_result",
          "data": {
            "text/plain": [
              "array([[ 1.        , -1.        , -1.        , -0.66666667, -0.36666667],\n",
              "       [ 1.        , -1.        , -1.        , -0.55555556, -0.40694444],\n",
              "       [-1.        ,  1.        , -1.        , -0.94444444, -1.        ],\n",
              "       [-1.        , -1.        ,  1.        ,  1.        , -0.05      ],\n",
              "       [-1.        ,  1.        , -1.        ,  0.5       ,  1.        ],\n",
              "       [-1.        ,  1.        , -1.        , -0.33333333,  0.16666667],\n",
              "       [-1.        , -1.        ,  1.        , -0.66666667, -0.40694444],\n",
              "       [-1.        , -1.        ,  1.        , -0.11111111,  0.5       ],\n",
              "       [ 1.        , -1.        , -1.        , -1.        , -0.83333333]])"
            ]
          },
          "metadata": {},
          "execution_count": 65
        }
      ]
    },
    {
      "cell_type": "code",
      "source": [
        "X_test"
      ],
      "metadata": {
        "colab": {
          "base_uri": "https://localhost:8080/"
        },
        "id": "zBAv5-Kf81wt",
        "outputId": "4b2b948d-1d6b-410a-fc58-71486723159c"
      },
      "execution_count": 66,
      "outputs": [
        {
          "output_type": "execute_result",
          "data": {
            "text/plain": [
              "array([[ 1.        , -1.        , -1.        , -0.44444444, -1.33333333],\n",
              "       [ 1.        , -1.        , -1.        ,  0.11111111,  0.83333333],\n",
              "       [ 1.        , -1.        , -1.        , -1.16666667, -0.66666667]])"
            ]
          },
          "metadata": {},
          "execution_count": 66
        }
      ]
    },
    {
      "cell_type": "code",
      "source": [
        "from sklearn.preprocessing import MinMaxScaler\n",
        "\n",
        "sc = MinMaxScaler(feature_range=(-1, 1))\n",
        "X_train = sc.fit_transform(X_train)\n",
        "X_test = sc.transform(X_test)"
      ],
      "metadata": {
        "id": "AcNjqeKKrinN"
      },
      "execution_count": null,
      "outputs": []
    },
    {
      "cell_type": "code",
      "source": [
        "X_train"
      ],
      "metadata": {
        "colab": {
          "base_uri": "https://localhost:8080/"
        },
        "id": "UNoS8tXw85E4",
        "outputId": "c7133a44-30e7-42fa-dc0e-da25594655ab"
      },
      "execution_count": 67,
      "outputs": [
        {
          "output_type": "execute_result",
          "data": {
            "text/plain": [
              "array([[ 1.        , -1.        , -1.        , -0.66666667, -0.36666667],\n",
              "       [ 1.        , -1.        , -1.        , -0.55555556, -0.40694444],\n",
              "       [-1.        ,  1.        , -1.        , -0.94444444, -1.        ],\n",
              "       [-1.        , -1.        ,  1.        ,  1.        , -0.05      ],\n",
              "       [-1.        ,  1.        , -1.        ,  0.5       ,  1.        ],\n",
              "       [-1.        ,  1.        , -1.        , -0.33333333,  0.16666667],\n",
              "       [-1.        , -1.        ,  1.        , -0.66666667, -0.40694444],\n",
              "       [-1.        , -1.        ,  1.        , -0.11111111,  0.5       ],\n",
              "       [ 1.        , -1.        , -1.        , -1.        , -0.83333333]])"
            ]
          },
          "metadata": {},
          "execution_count": 67
        }
      ]
    },
    {
      "cell_type": "code",
      "source": [
        "X_test"
      ],
      "metadata": {
        "colab": {
          "base_uri": "https://localhost:8080/"
        },
        "id": "JXRNdEI686Tp",
        "outputId": "b5ec45c2-772e-4680-aa9e-c6420b014e70"
      },
      "execution_count": 68,
      "outputs": [
        {
          "output_type": "execute_result",
          "data": {
            "text/plain": [
              "array([[ 1.        , -1.        , -1.        , -0.44444444, -1.33333333],\n",
              "       [ 1.        , -1.        , -1.        ,  0.11111111,  0.83333333],\n",
              "       [ 1.        , -1.        , -1.        , -1.16666667, -0.66666667]])"
            ]
          },
          "metadata": {},
          "execution_count": 68
        }
      ]
    }
  ]
}